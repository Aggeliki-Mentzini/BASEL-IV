{
  "nbformat": 4,
  "nbformat_minor": 0,
  "metadata": {
    "colab": {
      "private_outputs": true,
      "provenance": [],
      "authorship_tag": "ABX9TyNdcUMWfhklCicC1nr+oJkT",
      "include_colab_link": true
    },
    "kernelspec": {
      "name": "python3",
      "display_name": "Python 3"
    },
    "language_info": {
      "name": "python"
    }
  },
  "cells": [
    {
      "cell_type": "markdown",
      "metadata": {
        "id": "view-in-github",
        "colab_type": "text"
      },
      "source": [
        "<a href=\"https://colab.research.google.com/github/Aggeliki-Mentzini/BASEL-IV/blob/main/Untitled17.ipynb\" target=\"_parent\"><img src=\"https://colab.research.google.com/assets/colab-badge.svg\" alt=\"Open In Colab\"/></a>"
      ]
    },
    {
      "cell_type": "code",
      "execution_count": null,
      "metadata": {
        "id": "nfa2UA9bYdHF"
      },
      "outputs": [],
      "source": [
        "import numpy as np\n",
        "\n",
        "# Define the two matrices\n",
        "matrix_1 = np.array([\n",
        "    [-14.67, -14.67, -7.67, -7.67],\n",
        "    [-3.67, -10.67, -13.67, -13.67],\n",
        "    [18.33, 25.33, 21.33, 21.33]\n",
        "])\n",
        "\n",
        "matrix_2 = np.array([\n",
        "    [-0.42, 0.73],\n",
        "    [-0.58, 0.23],\n",
        "    [-0.49, -0.45],\n",
        "    [-0.49, -0.45]\n",
        "])\n",
        "\n",
        "# Perform the matrix multiplication\n",
        "x_compressed = np.dot(matrix_1, matrix_2)\n",
        "\n",
        "# Print the result\n",
        "print(\"X_compressed:\")\n",
        "print(x_compressed)\n"
      ]
    },
    {
      "cell_type": "code",
      "source": [
        "# prompt: i want it in float numbers\n",
        "\n",
        "import numpy as np\n",
        "\n",
        "# Define the two matrices\n",
        "matrix_1 = np.array([\n",
        "    [-14.67, -14.67, -7.67, -7.67],\n",
        "    [-3.67, -10.67, -13.67, -13.67],\n",
        "    [18.33, 25.33, 21.33, 21.33]\n",
        "])\n",
        "\n",
        "matrix_2 = np.array([\n",
        "    [-0.42, 0.73],\n",
        "    [-0.58, 0.23],\n",
        "    [-0.49, -0.45],\n",
        "    [-0.49, -0.45]\n",
        "])\n",
        "\n",
        "# Perform the matrix multiplication\n",
        "x_compressed = np.dot(matrix_1, matrix_2)\n",
        "\n",
        "# Print the result\n",
        "print(\"X_compressed:\")\n",
        "print(x_compressed)\n",
        "\n",
        "import heapq as hq\n",
        "def heap_queue_largest(nums,n):\n",
        "  largest_nums = hq.nlargest(n, nums)\n",
        "  return largest_nums\n",
        "\n",
        "# Example usage with the flattened x_compressed matrix\n",
        "flattened_x_compressed = x_compressed.flatten()\n",
        "largest_floats = heap_queue_largest(flattened_x_compressed, 2)\n",
        "print(\"\\nLargest two floats from x_compressed:\")\n",
        "largest_floats"
      ],
      "metadata": {
        "id": "4sW6zy8rYeZr"
      },
      "execution_count": null,
      "outputs": []
    },
    {
      "cell_type": "code",
      "source": [
        "# prompt: 2.21866e+01 as a float number\n",
        "\n",
        "float_number = 9.80000e-03\n",
        "\n",
        "float_number"
      ],
      "metadata": {
        "id": "cBWBg0OlY2lk"
      },
      "execution_count": null,
      "outputs": []
    },
    {
      "cell_type": "code",
      "source": [
        "import numpy as np\n",
        "\n",
        "# Define the matrices and vector\n",
        "A = np.array([[22.19, -7.18], [21.13, 7.17], [-43.29, 0.01]])\n",
        "B = np.array([[-0.42, -0.58, -0.49, -0.49], [0.73, 0.23, -0.45, -0.45]])\n",
        "v = np.array([66.67, 69.67, 68.67, 70.67])\n",
        "\n",
        "# Calculate the matrix product and add the vector\n",
        "result = np.dot(A, B) + v\n",
        "#result = np.dot(A, B) + v.transpose()\n",
        "\n",
        "print(result)"
      ],
      "metadata": {
        "id": "gSXxlNYsZP_v"
      },
      "execution_count": null,
      "outputs": []
    },
    {
      "cell_type": "code",
      "source": [],
      "metadata": {
        "id": "khricmuebi4k"
      },
      "execution_count": null,
      "outputs": []
    }
  ]
}