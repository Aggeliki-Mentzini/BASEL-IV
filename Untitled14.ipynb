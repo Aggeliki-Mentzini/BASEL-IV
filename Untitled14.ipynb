{
  "nbformat": 4,
  "nbformat_minor": 0,
  "metadata": {
    "colab": {
      "private_outputs": true,
      "provenance": [],
      "authorship_tag": "ABX9TyM7YuafkCZnU1csF+/B1Fdf",
      "include_colab_link": true
    },
    "kernelspec": {
      "name": "python3",
      "display_name": "Python 3"
    },
    "language_info": {
      "name": "python"
    }
  },
  "cells": [
    {
      "cell_type": "markdown",
      "metadata": {
        "id": "view-in-github",
        "colab_type": "text"
      },
      "source": [
        "<a href=\"https://colab.research.google.com/github/Aggeliki-Mentzini/BASEL-IV/blob/main/Untitled14.ipynb\" target=\"_parent\"><img src=\"https://colab.research.google.com/assets/colab-badge.svg\" alt=\"Open In Colab\"/></a>"
      ]
    },
    {
      "cell_type": "code",
      "execution_count": null,
      "metadata": {
        "id": "I6IAMf6P5EQw"
      },
      "outputs": [],
      "source": [
        "# prompt: dataframe for examine basel iv in risk\n",
        "\n",
        "import pandas as pd\n",
        "import numpy as np\n",
        "\n",
        "# Sample data (replace with your actual data)\n",
        "data = {\n",
        "    'Exposure': [1000000, 500000, 2000000, 750000, 1500000],\n",
        "    'PD': [0.01, 0.03, 0.005, 0.02, 0.015],  # Probability of Default\n",
        "    'LGD': [0.45, 0.50, 0.35, 0.60, 0.40],    # Loss Given Default\n",
        "    'Maturity': [1, 3, 5, 2, 4],  # in years\n",
        "    'Rating': ['A', 'BB', 'AAA', 'B', 'BBB'],\n",
        "    'Sector': ['Financial', 'Retail', 'Manufacturing', 'Real Estate', 'Energy']\n",
        "}\n",
        "\n",
        "df = pd.DataFrame(data)\n",
        "\n",
        "\n",
        "# Basel IV related calculations (example)\n",
        "\n",
        "# Simplified Risk Weight calculation (replace with your specific formula)\n",
        "def risk_weight_simplified(row):\n",
        "  if row['Rating'] == 'AAA':\n",
        "    return 0.005\n",
        "  elif row['Rating'] in ['AA', 'A']:\n",
        "    return 0.02\n",
        "  elif row['Rating'] in ['BBB', 'BB']:\n",
        "    return 0.05\n",
        "  elif row['Rating'] in ['B', 'CCC']:\n",
        "    return 0.15\n",
        "  else:\n",
        "    return 0.50  # high risk weights for lower rating classes\n",
        "\n",
        "# Apply RWA calculation\n",
        "df['RWA'] = df.apply(risk_weight_simplified, axis=1) * df['Exposure']\n",
        "\n",
        "\n",
        "# Expected Loss (EL) calculation\n",
        "df['EL'] = df['PD'] * df['LGD'] * df['Exposure']\n",
        "\n",
        "# Example of a more sophisticated PD calculation using a mapping for illustrative purposes\n",
        "# Replace with your own mapping and/or a model (e.g., logistic regression)\n",
        "pd_mapping = {'A': 0.01, 'BB': 0.02, 'AAA': 0.001, 'B': 0.03, 'BBB': 0.012}\n",
        "df['Mapped PD'] = df['Rating'].map(pd_mapping)\n",
        "\n",
        "# Recalculate Expected loss using the mapped PD\n",
        "df['EL (Mapped PD)'] = df['Mapped PD'] * df['LGD'] * df['Exposure']\n",
        "\n",
        "\n",
        "# Display the DataFrame\n",
        "df\n",
        "\n",
        "\n",
        "# Further analysis\n",
        "\n",
        "#1. Summary Statistics: Examine key statistics like mean, median, etc., for EL, RWA and other risk measures for different ratings\n",
        "#print(df.groupby('Rating')['EL'].agg(['mean', 'median', 'sum', 'count']))\n",
        "#print(df.groupby('Sector')['RWA'].agg(['mean', 'median', 'sum']))\n",
        "\n",
        "#2. Visualization: Create plots (histograms, box plots, etc.) to visualize the distribution of RWA and EL\n",
        "#import matplotlib.pyplot as plt\n",
        "#df.hist(column='EL')\n",
        "#plt.show()\n",
        "\n",
        "#3. Explore relationships\n",
        "#pd.plotting.scatter_matrix(df[['Exposure', 'PD', 'LGD', 'RWA', 'EL']], alpha=0.5, figsize=(12,12))\n",
        "#plt.show()\n",
        "\n",
        "#4. Segmentation: Group assets by sector or rating and then calculate aggregations.\n",
        "\n",
        "# Add your code to perform detailed Basel IV calculations and risk analysis here\n"
      ]
    },
    {
      "cell_type": "code",
      "source": [],
      "metadata": {
        "id": "I1ANUK5T5K1k"
      },
      "execution_count": null,
      "outputs": []
    }
  ]
}