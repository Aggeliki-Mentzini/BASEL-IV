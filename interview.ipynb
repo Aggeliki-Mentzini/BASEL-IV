{
  "nbformat": 4,
  "nbformat_minor": 0,
  "metadata": {
    "colab": {
      "private_outputs": true,
      "provenance": [],
      "authorship_tag": "ABX9TyNoY1d8peQA0mWdeeGKenix",
      "include_colab_link": true
    },
    "kernelspec": {
      "name": "python3",
      "display_name": "Python 3"
    },
    "language_info": {
      "name": "python"
    }
  },
  "cells": [
    {
      "cell_type": "markdown",
      "metadata": {
        "id": "view-in-github",
        "colab_type": "text"
      },
      "source": [
        "<a href=\"https://colab.research.google.com/github/Aggeliki-Mentzini/BASEL-IV/blob/main/interview.ipynb\" target=\"_parent\"><img src=\"https://colab.research.google.com/assets/colab-badge.svg\" alt=\"Open In Colab\"/></a>"
      ]
    },
    {
      "cell_type": "code",
      "source": [
        "import pandas as pd\n",
        "import numpy as np\n",
        "from google.colab import files"
      ],
      "metadata": {
        "id": "bvFEc-cMqV8_"
      },
      "execution_count": null,
      "outputs": []
    },
    {
      "cell_type": "code",
      "source": [
        "from google.colab import files\n",
        "uploaded = files.upload()"
      ],
      "metadata": {
        "id": "TGT_qYqJqeYj"
      },
      "execution_count": null,
      "outputs": []
    },
    {
      "cell_type": "code",
      "source": [
        "Sheet1=pd.read_csv('Sheet1.csv')"
      ],
      "metadata": {
        "id": "JARxURQqqkFD"
      },
      "execution_count": null,
      "outputs": []
    },
    {
      "cell_type": "code",
      "source": [
        "# Remove duplicates based on the 'Id' column\n",
        "Sheet1.drop_duplicates(subset=['Id'], keep='first', inplace=True)\n",
        "\n",
        "# Save the cleaned data back to a new CSV file\n",
        "Sheet1.to_csv('Sheet1_no_duplicates.csv', index=False)\n",
        "\n",
        "print(\"Duplicates removed. Cleaned data saved to Sheet1_no_duplicates.csv\")\n"
      ],
      "metadata": {
        "id": "q46FTXpAqrPP"
      },
      "execution_count": null,
      "outputs": []
    },
    {
      "cell_type": "code",
      "source": [
        "# Download the file\n",
        "files.download('Sheet1_no_duplicates.csv')"
      ],
      "metadata": {
        "id": "xkyuVVtjqy3g"
      },
      "execution_count": null,
      "outputs": []
    },
    {
      "cell_type": "code",
      "source": [],
      "metadata": {
        "id": "iulQMBt5rF4x"
      },
      "execution_count": null,
      "outputs": []
    }
  ]
}